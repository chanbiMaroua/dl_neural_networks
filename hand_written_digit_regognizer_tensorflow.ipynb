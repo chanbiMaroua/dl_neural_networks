{
  "nbformat": 4,
  "nbformat_minor": 0,
  "metadata": {
    "colab": {
      "name": "hand_written_digit_regognizer_tensorflow.ipynb",
      "provenance": [],
      "authorship_tag": "ABX9TyMaVnKMGYaSZbgAK6g74B/2",
      "include_colab_link": true
    },
    "kernelspec": {
      "name": "python3",
      "display_name": "Python 3"
    },
    "language_info": {
      "name": "python"
    }
  },
  "cells": [
    {
      "cell_type": "markdown",
      "metadata": {
        "id": "view-in-github",
        "colab_type": "text"
      },
      "source": [
        "<a href=\"https://colab.research.google.com/github/chanbiMaroua/dl_neural_networks/blob/main/hand_written_digit_regognizer_tensorflow.ipynb\" target=\"_parent\"><img src=\"https://colab.research.google.com/assets/colab-badge.svg\" alt=\"Open In Colab\"/></a>"
      ]
    },
    {
      "cell_type": "code",
      "execution_count": 1,
      "metadata": {
        "id": "Kd1l-i6Y5dcf"
      },
      "outputs": [],
      "source": [
        "#gvhbjn"
      ]
    }
  ]
}